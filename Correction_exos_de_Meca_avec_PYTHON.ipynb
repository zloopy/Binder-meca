{
  "cells": [
    {
      "cell_type": "markdown",
      "metadata": {
        "id": "A52z3e3wXOTr"
      },
      "source": [
        "# 1. Choc élastique entre deux Boules"
      ]
    },
    {
      "cell_type": "markdown",
      "metadata": {
        "id": "r-c0I7_YXOTx"
      },
      "source": [
        "C'est important de se rappeler que le signe signifie le sens lors du mouvement de chaque objet."
      ]
    },
    {
      "cell_type": "code",
      "source": [
        "#from sympy import symbols, Eq, solve\n",
        "import math as m\n",
        "import numpy as np\n",
        "import matplotlib.pyplot as plt"
      ],
      "metadata": {
        "id": "HvsjoREPYrET"
      },
      "execution_count": null,
      "outputs": []
    },
    {
      "cell_type": "markdown",
      "source": [
        "Enon9ons toute de suite nos constantes que l'on utilisera pour la suite\n"
      ],
      "metadata": {
        "id": "uWxeoxK_pO_H"
      }
    },
    {
      "cell_type": "code",
      "source": [
        "#Declaration des constantes :\n",
        "g = 9.81 #pesanteur\n"
      ],
      "metadata": {
        "id": "88ANEM42pn9R"
      },
      "execution_count": null,
      "outputs": []
    },
    {
      "cell_type": "code",
      "execution_count": null,
      "metadata": {
        "colab": {
          "base_uri": "https://localhost:8080/",
          "height": 289
        },
        "id": "hkjpiu5rXOTy",
        "outputId": "9efcf854-420d-4c19-ea9a-b9a763dcda25"
      },
      "outputs": [
        {
          "name": "stdout",
          "output_type": "stream",
          "text": [
            "Choisir la masse de la première boule (en kg) : 10\n",
            "Choisir la masse de la deuxième boule (en kg): -2\n",
            "Choisir la vitesse initiale de la première boule (en m/s) : 20\n",
            "Choisir la vitesse intitiale de la deuxième boule (en m/s) : -5\n"
          ]
        },
        {
          "output_type": "error",
          "ename": "NameError",
          "evalue": "name 'np' is not defined",
          "traceback": [
            "\u001b[0;31m---------------------------------------------------------------------------\u001b[0m",
            "\u001b[0;31mNameError\u001b[0m                                 Traceback (most recent call last)",
            "\u001b[0;32m<ipython-input-1-fcce161e1358>\u001b[0m in \u001b[0;36m<cell line: 6>\u001b[0;34m()\u001b[0m\n\u001b[1;32m      4\u001b[0m \u001b[0mv1\u001b[0m \u001b[0;34m=\u001b[0m \u001b[0mfloat\u001b[0m\u001b[0;34m(\u001b[0m\u001b[0minput\u001b[0m\u001b[0;34m(\u001b[0m\u001b[0;34m\"Choisir la vitesse intitiale de la deuxième boule (en m/s) : \"\u001b[0m\u001b[0;34m)\u001b[0m\u001b[0;34m)\u001b[0m\u001b[0;34m\u001b[0m\u001b[0;34m\u001b[0m\u001b[0m\n\u001b[1;32m      5\u001b[0m \u001b[0;34m\u001b[0m\u001b[0m\n\u001b[0;32m----> 6\u001b[0;31m \u001b[0mgauche\u001b[0m \u001b[0;34m=\u001b[0m \u001b[0mnp\u001b[0m\u001b[0;34m.\u001b[0m\u001b[0marray\u001b[0m\u001b[0;34m(\u001b[0m\u001b[0;34m[\u001b[0m\u001b[0;34m[\u001b[0m\u001b[0mm1\u001b[0m\u001b[0;34m,\u001b[0m\u001b[0mm2\u001b[0m\u001b[0;34m]\u001b[0m\u001b[0;34m,\u001b[0m\u001b[0;34m[\u001b[0m\u001b[0;36m1\u001b[0m\u001b[0;34m,\u001b[0m\u001b[0;34m-\u001b[0m\u001b[0;36m1\u001b[0m\u001b[0;34m]\u001b[0m\u001b[0;34m]\u001b[0m\u001b[0;34m)\u001b[0m\u001b[0;34m\u001b[0m\u001b[0;34m\u001b[0m\u001b[0m\n\u001b[0m\u001b[1;32m      7\u001b[0m \u001b[0mdroite\u001b[0m \u001b[0;34m=\u001b[0m \u001b[0mnp\u001b[0m\u001b[0;34m.\u001b[0m\u001b[0marray\u001b[0m\u001b[0;34m(\u001b[0m\u001b[0;34m[\u001b[0m\u001b[0mm1\u001b[0m\u001b[0;34m*\u001b[0m\u001b[0mu1\u001b[0m \u001b[0;34m+\u001b[0m \u001b[0mm2\u001b[0m\u001b[0;34m*\u001b[0m\u001b[0mv1\u001b[0m\u001b[0;34m,\u001b[0m \u001b[0mv1\u001b[0m\u001b[0;34m-\u001b[0m\u001b[0mu1\u001b[0m\u001b[0;34m]\u001b[0m\u001b[0;34m)\u001b[0m\u001b[0;34m\u001b[0m\u001b[0;34m\u001b[0m\u001b[0m\n\u001b[1;32m      8\u001b[0m \u001b[0;34m\u001b[0m\u001b[0m\n",
            "\u001b[0;31mNameError\u001b[0m: name 'np' is not defined"
          ]
        }
      ],
      "source": [
        "\n",
        "\n",
        "m1 = float(input(\"Choisir la masse de la première boule (en kg) : \"))\n",
        "m2 = float(input(\"Choisir la masse de la deuxième boule (en kg): \"))\n",
        "u1 = float(input(\"Choisir la vitesse initiale de la première boule (en m/s) : \"))\n",
        "v1 = float(input(\"Choisir la vitesse intitiale de la deuxième boule (en m/s) : \"))\n",
        "\n",
        "gauche = np.array([[m1,m2],[1,-1]])\n",
        "droite = np.array([m1*u1 + m2*v1, v1-u1])\n",
        "\n",
        "soln = np.linalg.solve(gauche, droite)\n",
        "\n",
        "\n",
        "u2 = soln[0]\n",
        "v2 = soln[1]\n",
        "\n",
        "if u2 >= 0 :\n",
        "    print('la vitesse de la boule 1 est ', u2, \" m/s de gauche à droite\")\n",
        "else :\n",
        "    print('la vitesse de la boule 1 est ', u2, \" m/s de droite à gauche\")\n",
        "\n",
        "if v2 >= 0 :\n",
        "    print('la vitesse de la boule 2 est', v2, \" m/s de gauche à droite\")\n",
        "else :\n",
        "    print('la vitesse de la boule 2 est', v2, \" m/s de droite à gauche\")\n"
      ]
    },
    {
      "cell_type": "markdown",
      "metadata": {
        "id": "K_R42V8rXOT2"
      },
      "source": [
        "# 2. Collision entre deux voiture"
      ]
    },
    {
      "cell_type": "markdown",
      "metadata": {
        "id": "ttU9WjRtXOT3"
      },
      "source": [
        "Le principe ici c'est tout simplement une addition vectorielle des deux vecteur-vitesse des deux voitures pour donner le vecteur-vitesse de l'ensemble des deux voiture collées après la collision."
      ]
    },
    {
      "cell_type": "code",
      "execution_count": null,
      "metadata": {
        "id": "9aKWglqqXOT3",
        "outputId": "6cd256be-a368-4fbc-f2be-9b4a981e886f"
      },
      "outputs": [
        {
          "name": "stdout",
          "output_type": "stream",
          "text": [
            "Choisir la masse du premier véhicule (en kg) : 1000\n",
            "Choisir la masse du deuxième véhicule (en kg): 800\n",
            "Choisir la vitesse du premier véhicule (en m/s) : 50\n",
            "Choisir l'angle du vecteur-vitesse du premier véhicule p/r à l'horizontal' (en degré) : 0\n",
            "Choisir la vitesse du deuxième véhicule (en m/s) : 50\n",
            "Choisir l'angle du vecteur-vitesse du deuxième véhicule p/r à l'horizontal' (en degré) : -90\n",
            "[50.  0.]\n",
            "[ 3.061617e-15 -5.000000e+01]\n",
            "[ 27.77777778 -22.22222222]\n",
            "la composante x de v3 est  27.77777777777778\n",
            "la composante y de v3 est  -22.22222222222222\n",
            "les deux voiture part avec une vitesse  35.57291243018249  avec un angle  -38.65980825409009  degré par rapport à horizontal\n"
          ]
        }
      ],
      "source": [
        "import math as m\n",
        "import numpy as np\n",
        "\n",
        "\n",
        "m1 = float(input(\"Choisir la masse du premier véhicule (en kg) : \"))\n",
        "m2 = float(input(\"Choisir la masse du deuxième véhicule (en kg): \"))\n",
        "u1 = float(input(\"Choisir la vitesse du premier véhicule (en m/s) : \"))\n",
        "theta1 = float(input(\"Choisir l'angle du vecteur-vitesse du premier véhicule p/r à l'horizontal' (en degré) : \"))\n",
        "u2 = float(input(\"Choisir la vitesse du deuxième véhicule (en m/s) : \"))\n",
        "theta2 = float(input(\"Choisir l'angle du vecteur-vitesse du deuxième véhicule p/r à l'horizontal' (en degré) : \"))\n",
        "\n",
        "#définissons les vecteurs vitesse\n",
        "\n",
        "v1 = np.array([u1*m.cos(theta1*m.pi/180),u1*m.sin(theta1*m.pi/180)])\n",
        "v2 = np.array([u2*m.cos(theta2*m.pi/180),u2*m.sin(theta2*m.pi/180)])\n",
        "m3 = m1 + m2\n",
        "\n",
        "v3 = 1/m3*(m1*v1 + m2*v2)\n",
        "\n",
        "print(v1)\n",
        "print(v2)\n",
        "print(v3)\n",
        "\n",
        "v3x = v3[0]\n",
        "v3y = v3[1]\n",
        "v3 = m.sqrt(v3x**2 + v3y**2)\n",
        "theta3 = np.arctan(v3y/v3x)*180/m.pi\n",
        "\n",
        "print('la composante x de v3 est ', v3x)\n",
        "print('la composante y de v3 est ', v3y)\n",
        "print('les deux voiture part avec une vitesse ', v3, ' avec un angle ',theta3, ' degré par rapport à horizontal')\n"
      ]
    },
    {
      "cell_type": "markdown",
      "metadata": {
        "id": "aedvg54AXOT4"
      },
      "source": [
        "# 6. Chute libre sans vitesse initiale"
      ]
    },
    {
      "cell_type": "markdown",
      "metadata": {
        "id": "coWTOkG7XOT5"
      },
      "source": [
        "Considérer une balle de masse $m$ situé à une hauteur $h$ par rapport au sol.\n",
        "  1. Déterminer à quel instant $t_1$ la balle touche le sol."
      ]
    },
    {
      "cell_type": "markdown",
      "metadata": {
        "id": "ff2wgMrHXOT5"
      },
      "source": [
        "Il y a au moins deux méthodes pour répondre : soit on définit une fonction que l'on visualise ou utiliser pour les différents calculs, soit nous définissions une liste des positions ou de dates à laquelle nous rajoutons chaque nouvelle position.\n",
        "\n",
        "Les équations du mouvement à partir du PFD (ici en une seule direction $y$) sont :\n",
        "\n",
        "\n",
        "$$\n",
        "    \\left\\{\n",
        "    \\begin{array}\\\\\n",
        "        a = -g \\\\\n",
        "        v = -g\\cdot t + v_0 \\\\\n",
        "        y = -\\dfrac{-g}{2}\\cdot t^2 + v_0\\cdot t + y_0\n",
        "    \\end{array}\n",
        "\\right.\n",
        "$$\n"
      ]
    },
    {
      "cell_type": "markdown",
      "metadata": {
        "id": "sYFNs_3HXOT6"
      },
      "source": [
        "avec $y_0 = h$ et $g$ constant au voisinage de la surface de la Terre.\n",
        "\n",
        " 1. Déterminer à quel instant $t_1$ la balle touche le sol.\n",
        " 4. Déterminer la valeur numérique de la vitesse v_s (vitesse au sol) pour une $h_1=2,0$ m\n",
        " 5. Déterminer la hauter $h_0$ d'où on doit lacher la balle pour une $v_s=10,0$.\n",
        "\n",
        "Commençons par les deux premières questions :"
      ]
    },
    {
      "cell_type": "code",
      "execution_count": null,
      "metadata": {
        "colab": {
          "base_uri": "https://localhost:8080/"
        },
        "id": "Do8hbQo2XOT6",
        "outputId": "a1d26a26-c58e-44f4-a9bd-cab019bd09ce"
      },
      "outputs": [
        {
          "output_type": "stream",
          "name": "stdout",
          "text": [
            "Choisir la hauteur intiale depuis laquelle on lache la balle 10\n",
            "la balle touche le sol à t =  1.440000000000001  s\n",
            "la vitesse au moment d'arriver au sol est vs =  -14.02830000000001\n"
          ]
        }
      ],
      "source": [
        "  # import numpy as np\n",
        "# import math as m\n",
        "# import matplotlib.pyplot as plt\n",
        "\n",
        "#constantes\n",
        "g = 9.81 #pesanteur\n",
        "h = float(input(\"Choisir la hauteur intiale depuis laquelle on lache la balle \")) #hauteur initiale\n",
        "\n",
        "vy0=0 #vitesse verticale initiale\n",
        "a=-g #le terme d'accélération 'générale'\n",
        "y0=h #hauteur initiale\n",
        "dt=0.01 #le 'pas' temporelle, l'intervalle d'avancement dans le temps\n",
        "\n",
        "\n",
        "#la valeur initiale dans chaque liste\n",
        "t = 0\n",
        "y = y0\n",
        "\n",
        "while y>0 :\n",
        "    y = (a/2)*t**2 + vy0*t + y0 #pour calculer la position a chaque instant\n",
        "    vy= a*t + vy0               #pour calculer la vitesse à chaque instant\n",
        "    t = t + dt\n",
        "\n",
        "print(\"la balle touche le sol à t = \", t, \" s\")\n",
        "print(\"la vitesse au moment d'arriver au sol est vs = \", vy)"
      ]
    },
    {
      "cell_type": "markdown",
      "metadata": {
        "id": "KttDf_SxXOT7"
      },
      "source": [
        "Si l'on avait lâché la balle depuis une hauteur initiale de $100 m$ ca toucherait le sol au bout de $4,53$ secondes, ayant une vitesse de $44,34 m/s$ vers le bas au moment de l'impact. Pour répondre à la question pour une hauteur initiale de $2$ mètre, évidemment il suffit simplement de changer la valeur de input."
      ]
    },
    {
      "cell_type": "markdown",
      "metadata": {
        "id": "W8M7kNpJXOT7"
      },
      "source": [
        "Pour répondre à la dernière question, il faut une expression de $h$ en fonction de $v$. c'est à dire $h_0 = \\dfrac{v_s^2}{2g}$, ce qui nécessite pas un programme pour calculer. Sinon on pourrait faire un graphique qui donne des variation de $h_0$ en fonction de variation de $v_s$."
      ]
    },
    {
      "cell_type": "markdown",
      "metadata": {
        "id": "gyK6DorWXOT7"
      },
      "source": [
        "# 8. Chute libre avec vitesse initiale"
      ]
    },
    {
      "cell_type": "markdown",
      "metadata": {
        "id": "Z6ZlkT3TXOT7"
      },
      "source": [
        "On va reprendre notre programme pour l'exercice précédent, et simplement mettre la valeur de $v_y$ à une valeur non-nulle."
      ]
    },
    {
      "cell_type": "code",
      "execution_count": null,
      "metadata": {
        "id": "EufxCOmuXOT8",
        "outputId": "73e254df-aa57-4a50-f3a5-6496fda2cd31"
      },
      "outputs": [
        {
          "name": "stdout",
          "output_type": "stream",
          "text": [
            "Choisir la hauteur intiale depuis laquelle on lache la balle 100\n",
            "Choisir la vitesse initiale de la balle -20\n",
            "la balle touche le sol à t =  2.9299999999999815  s\n",
            "la vitesse au moment d'arriver au sol est vs =  -48.64519999999982\n"
          ]
        }
      ],
      "source": [
        "# import numpy as np\n",
        "# import math as m\n",
        "# import matplotlib.pyplot as plt\n",
        "\n",
        "#constantes\n",
        "g = 9.81 #pesanteur\n",
        "h = float(input(\"Choisir la hauteur intiale depuis laquelle on lache la balle \")) #hauteur initiale\n",
        "\n",
        "vy0 = float(input(\"Choisir la vitesse initiale de la balle \"))  #vitesse verticale initiale\n",
        "a=-g #le terme d'accélération 'générale'\n",
        "y0=h #hauteur initiale\n",
        "dt=0.01 #le 'pas' temporelle, l'intervalle d'avancement dans le temps\n",
        "\n",
        "\n",
        "#la valeur initiale dans chaque liste\n",
        "t = 0\n",
        "y = y0\n",
        "\n",
        "while y>0 :\n",
        "    y = (a/2)*t**2 + vy0*t + y0 #pour calculer la position a chaque instant\n",
        "    vy= a*t + vy0               #pour calculer la vitesse à chaque instant\n",
        "    t = t + dt\n",
        "\n",
        "print(\"la balle touche le sol à t = \", t, \" s\")\n",
        "print(\"la vitesse au moment d'arriver au sol est vs = \", vy)"
      ]
    },
    {
      "cell_type": "markdown",
      "metadata": {
        "id": "Wa69bTchXOT8"
      },
      "source": [
        "C'est intéressant de noter, et important comme vérification de l'exactitude de l'experssion trouvée, d'essayer la même vitesse initiale vers le haut et vers le bas, et constater que la vitesse au sol demeure identique, seul la durée du vol change."
      ]
    },
    {
      "cell_type": "markdown",
      "source": [
        "## Tracer la trajectoire - chute libre en 2-D\n",
        "\n",
        "Nous avons nos equations horaires en $x$ et $y$:\n",
        "$$\n",
        "    \\left\\{\n",
        "    \\begin{array}\\\\\n",
        "        x = v_0\\cdot t \\cos\\theta + x_0 \\\\\n",
        "        y = -\\dfrac{1}{2}g\\cdot t^2 + v_0\\cdot t\\sin\\theta + y_0\n",
        "    \\end{array}\n",
        "\\right.\n",
        "$$\n"
      ],
      "metadata": {
        "id": "DGU3_x_AmqU2"
      }
    },
    {
      "cell_type": "code",
      "execution_count": null,
      "metadata": {
        "id": "ANsyU4FoXOT9",
        "colab": {
          "base_uri": "https://localhost:8080/",
          "height": 430
        },
        "outputId": "0a4ae0d1-1bb6-4c99-dd19-349bbf3f4f84"
      },
      "outputs": [
        {
          "output_type": "display_data",
          "data": {
            "text/plain": [
              "<Figure size 640x480 with 1 Axes>"
            ],
            "image/png": "[encoded data removed]"
          },
          "metadata": {}
        }
      ],
      "source": [
        "\n",
        "#conditions initiales\n",
        "x0 = 0\n",
        "y0 = 5\n",
        "v0 = 10\n",
        "theta_deg = 85\n",
        "theta_rad = theta_deg*np.pi/180\n",
        "\n",
        "\n",
        "#positions\n",
        "X = []\n",
        "Y = []\n",
        "Vx = []\n",
        "Vy = []\n",
        "\n",
        "# les dates\n",
        "t0 = 0\n",
        "#t_max = 10\n",
        "#n = 100 #nombre de dates\n",
        "#t = np.linspace(t0,t_max,n)\n",
        "dt = 0.1\n",
        "\n",
        "#definitions equations horaries\n",
        "def x(t):\n",
        "  return v0*np.cos(theta_rad)*t + x0\n",
        "\n",
        "def y(t):\n",
        "  return -g*0.5*t**2 + v0*np.sin(theta_rad)*t + y0\n",
        "\n",
        "#faire une boucle pour la duree du volm c-a-d avant qu'il touche le sol\n",
        "\n",
        "while y(t0) >= 0:\n",
        "  X.append(x(t0))\n",
        "  Y.append(y(t0))\n",
        "  Vx.append(v0*np.cos(theta_rad))\n",
        "  Vy.append(v0*np.sin(theta_rad))\n",
        "  #update dates\n",
        "  t0 = t0 + dt\n",
        "\n",
        "#Graphique trajectoire\n",
        "plt.plot(X,Y)\n",
        "plt.grid()\n",
        "plt.savefig(\"courbe.png\" )\n",
        "plt.show()\n"
      ]
    },
    {
      "cell_type": "code",
      "source": [],
      "metadata": {
        "id": "hfXwmUNIGD2i"
      },
      "execution_count": null,
      "outputs": []
    },
    {
      "cell_type": "markdown",
      "source": [
        "Voici une autre facon de voir et simuler la situation :"
      ],
      "metadata": {
        "id": "sc17EIY1i-NC"
      }
    },
    {
      "cell_type": "code",
      "execution_count": null,
      "metadata": {
        "colab": {
          "base_uri": "https://localhost:8080/",
          "height": 430
        },
        "outputId": "f1b9d1b2-490e-4284-c486-d847ac63d009",
        "id": "r2cKWPptGESQ"
      },
      "outputs": [
        {
          "output_type": "display_data",
          "data": {
            "text/plain": [
              "<Figure size 640x480 with 1 Axes>"
            ],
            "image/png": "[encoded data removed]"
          },
          "metadata": {}
        }
      ],
      "source": [
        "\n",
        "#conditions initiales\n",
        "x0 = 0\n",
        "y0 = 5\n",
        "v0 = 10\n",
        "theta_deg = 85\n",
        "theta_rad = theta_deg*np.pi/180\n",
        "\n",
        "\n",
        "#positions\n",
        "X = []\n",
        "Y = []\n",
        "Vx = []\n",
        "Vy = []\n",
        "\n",
        "# les dates\n",
        "t0 = 0\n",
        "t_max = 10\n",
        "n = 100 #nombre de dates\n",
        "t = np.linspace(t0,t_max,n)\n",
        "dt = 0.1\n",
        "\n",
        "#definitions equations horaries\n",
        "def x(t):\n",
        "  return v0*np.cos(theta_rad)*t + x0\n",
        "\n",
        "def y(t):\n",
        "  return -g*0.5*t**2 + v0*np.sin(theta_rad)*t + y0\n",
        "\n",
        "#faire une boucle pour la duree du volm c-a-d avant qu'il touche le sol\n",
        "\n",
        "\n",
        "#Graphique trajectoire\n",
        "plt.plot(x(t), y(t))\n",
        "plt.grid()\n",
        "plt.savefig(\"courbe.png\" )\n",
        "plt.show()\n"
      ]
    },
    {
      "cell_type": "markdown",
      "source": [
        "Et maintenant si l'on tenait compte du frottement fluide : avec la forme $\\vec{F_f} = -k\\cdot \\vec{v}$"
      ],
      "metadata": {
        "id": "OUQTpDv-TXIJ"
      }
    },
    {
      "cell_type": "code",
      "source": [
        "#constantes\n",
        "g = -9.81\n",
        "k = 0.5\n",
        "m = 2\n",
        "\n",
        "#conditions initiales\n",
        "x0 = 0\n",
        "y0 = 10\n",
        "v0 = 10\n",
        "theta_deg = 45\n",
        "theta_rad = theta_deg*np.pi/180\n",
        "tau = m/k\n",
        "\n",
        "#positions\n",
        "X = []\n",
        "Y = []\n",
        "Vx = []\n",
        "Vy = []\n",
        "\n",
        "# les dates\n",
        "t0 = 0\n",
        "#t_max = 10\n",
        "#n = 100 #nombre de dates\n",
        "#t = np.linspace(t0,t_max,n)\n",
        "dt = 0.05\n",
        "\n",
        "#definissons les equations horaires\n",
        "def y(t):\n",
        "  return -tau**2*g*(1 - np.exp(-t/tau)) - tau*g*t\n",
        "\n",
        "def x(t):\n",
        "  return -v0*np.cos(theta_rad)*np.exp(-t/tau) + x0\n",
        "\n",
        "#faire une boucle pour la duree du volm c-a-d avant qu'il touche le sol\n",
        "\n",
        "while y(t0) >= 0:\n",
        "  X.append(x(t0))\n",
        "  Y.append(y(t0))\n",
        "  Vx.append(v0*np.cos(theta_rad))\n",
        "  Vy.append(v0*np.sin(theta_rad))\n",
        "  #update dates\n",
        "  t0 = t0 + dt\n",
        "\n",
        "#Graphique trajectoire\n",
        "plt.plot(X,Y)\n",
        "plt.grid()\n",
        "plt.savefig(\"courbe.png\" )\n",
        "plt.show()\n"
      ],
      "metadata": {
        "colab": {
          "base_uri": "https://localhost:8080/",
          "height": 343
        },
        "id": "X7NqLjY7Tl9K",
        "outputId": "c6fb8c47-84f7-473a-fe96-8239b607b473"
      },
      "execution_count": null,
      "outputs": [
        {
          "output_type": "error",
          "ename": "KeyboardInterrupt",
          "evalue": "",
          "traceback": [
            "\u001b[0;31m---------------------------------------------------------------------------\u001b[0m",
            "\u001b[0;31mKeyboardInterrupt\u001b[0m                         Traceback (most recent call last)",
            "\u001b[0;32m<ipython-input-4-13385f59a419>\u001b[0m in \u001b[0;36m<cell line: 36>\u001b[0;34m()\u001b[0m\n\u001b[1;32m     36\u001b[0m \u001b[0;32mwhile\u001b[0m \u001b[0my\u001b[0m\u001b[0;34m(\u001b[0m\u001b[0mt0\u001b[0m\u001b[0;34m)\u001b[0m \u001b[0;34m>=\u001b[0m \u001b[0;36m0\u001b[0m\u001b[0;34m:\u001b[0m\u001b[0;34m\u001b[0m\u001b[0;34m\u001b[0m\u001b[0m\n\u001b[1;32m     37\u001b[0m   \u001b[0mX\u001b[0m\u001b[0;34m.\u001b[0m\u001b[0mappend\u001b[0m\u001b[0;34m(\u001b[0m\u001b[0mx\u001b[0m\u001b[0;34m(\u001b[0m\u001b[0mt0\u001b[0m\u001b[0;34m)\u001b[0m\u001b[0;34m)\u001b[0m\u001b[0;34m\u001b[0m\u001b[0;34m\u001b[0m\u001b[0m\n\u001b[0;32m---> 38\u001b[0;31m   \u001b[0mY\u001b[0m\u001b[0;34m.\u001b[0m\u001b[0mappend\u001b[0m\u001b[0;34m(\u001b[0m\u001b[0my\u001b[0m\u001b[0;34m(\u001b[0m\u001b[0mt0\u001b[0m\u001b[0;34m)\u001b[0m\u001b[0;34m)\u001b[0m\u001b[0;34m\u001b[0m\u001b[0;34m\u001b[0m\u001b[0m\n\u001b[0m\u001b[1;32m     39\u001b[0m   \u001b[0;31m#update dates\u001b[0m\u001b[0;34m\u001b[0m\u001b[0;34m\u001b[0m\u001b[0m\n\u001b[1;32m     40\u001b[0m   \u001b[0mt0\u001b[0m \u001b[0;34m=\u001b[0m \u001b[0mt0\u001b[0m \u001b[0;34m+\u001b[0m \u001b[0mdt\u001b[0m\u001b[0;34m\u001b[0m\u001b[0;34m\u001b[0m\u001b[0m\n",
            "\u001b[0;32m<ipython-input-4-13385f59a419>\u001b[0m in \u001b[0;36my\u001b[0;34m(t)\u001b[0m\n\u001b[1;32m     27\u001b[0m \u001b[0;31m#definitions equations horaries\u001b[0m\u001b[0;34m\u001b[0m\u001b[0;34m\u001b[0m\u001b[0m\n\u001b[1;32m     28\u001b[0m \u001b[0;32mdef\u001b[0m \u001b[0my\u001b[0m\u001b[0;34m(\u001b[0m\u001b[0mt\u001b[0m\u001b[0;34m)\u001b[0m\u001b[0;34m:\u001b[0m\u001b[0;34m\u001b[0m\u001b[0;34m\u001b[0m\u001b[0m\n\u001b[0;32m---> 29\u001b[0;31m   \u001b[0;32mreturn\u001b[0m \u001b[0;34m-\u001b[0m\u001b[0mtau\u001b[0m\u001b[0;34m**\u001b[0m\u001b[0;36m2\u001b[0m\u001b[0;34m*\u001b[0m\u001b[0mg\u001b[0m\u001b[0;34m*\u001b[0m\u001b[0;34m(\u001b[0m\u001b[0;36m1\u001b[0m \u001b[0;34m-\u001b[0m \u001b[0mnp\u001b[0m\u001b[0;34m.\u001b[0m\u001b[0mexp\u001b[0m\u001b[0;34m(\u001b[0m\u001b[0;34m-\u001b[0m\u001b[0mt\u001b[0m\u001b[0;34m/\u001b[0m\u001b[0mtau\u001b[0m\u001b[0;34m)\u001b[0m\u001b[0;34m)\u001b[0m \u001b[0;34m-\u001b[0m \u001b[0mtau\u001b[0m\u001b[0;34m*\u001b[0m\u001b[0mg\u001b[0m\u001b[0;34m*\u001b[0m\u001b[0mt\u001b[0m\u001b[0;34m\u001b[0m\u001b[0;34m\u001b[0m\u001b[0m\n\u001b[0m\u001b[1;32m     30\u001b[0m \u001b[0;34m\u001b[0m\u001b[0m\n\u001b[1;32m     31\u001b[0m \u001b[0;32mdef\u001b[0m \u001b[0mx\u001b[0m\u001b[0;34m(\u001b[0m\u001b[0mt\u001b[0m\u001b[0;34m)\u001b[0m\u001b[0;34m:\u001b[0m\u001b[0;34m\u001b[0m\u001b[0;34m\u001b[0m\u001b[0m\n",
            "\u001b[0;31mKeyboardInterrupt\u001b[0m: "
          ]
        }
      ]
    }
  ],
  "metadata": {
    "kernelspec": {
      "display_name": "Python 3",
      "language": "python",
      "name": "python3"
    },
    "colab": {
      "provenance": []
    }
  },
  "nbformat": 4,
  "nbformat_minor": 0
}